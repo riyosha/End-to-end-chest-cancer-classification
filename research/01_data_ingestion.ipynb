{
 "cells": [
  {
   "cell_type": "code",
   "execution_count": 8,
   "id": "76dda93c",
   "metadata": {},
   "outputs": [],
   "source": [
    "import os\n",
    "\n",
    "import gdown\n",
    "import zipfile\n",
    "\n",
    "from cvClassifier import logger\n",
    "from cvClassifier.utils.common import get_size, read_yaml, create_directories \n",
    "from cvClassifier.constants import *\n",
    "\n",
    "os.chdir(\"../\")"
   ]
  },
  {
   "cell_type": "code",
   "execution_count": 3,
   "id": "e77db024",
   "metadata": {},
   "outputs": [
    {
     "data": {
      "text/plain": [
       "'/Users/riyosha/UW_MSDS/projects/End-to-end-chest-cancer-classification'"
      ]
     },
     "execution_count": 3,
     "metadata": {},
     "output_type": "execute_result"
    }
   ],
   "source": [
    "%pwd"
   ]
  },
  {
   "cell_type": "code",
   "execution_count": 4,
   "id": "139080e8",
   "metadata": {},
   "outputs": [],
   "source": [
    "from dataclasses import dataclass\n",
    "from pathlib import Path\n",
    "\n",
    "@dataclass(frozen=True)\n",
    "class DataIngestionConfig:\n",
    "    root_dir: Path\n",
    "    source_URL: str\n",
    "    local_data_file: Path\n",
    "    unzip_dir: Path\n",
    "\n"
   ]
  },
  {
   "cell_type": "code",
   "execution_count": 6,
   "id": "0286a328",
   "metadata": {},
   "outputs": [
    {
     "name": "stdout",
     "output_type": "stream",
     "text": [
      "config/config.yaml\n"
     ]
    }
   ],
   "source": [
    "print(CONFIG_FILE_PATH)"
   ]
  },
  {
   "cell_type": "code",
   "execution_count": 17,
   "id": "900abcf2",
   "metadata": {},
   "outputs": [],
   "source": [
    "class ConfigurationManager:\n",
    "    # this class manages the configuration of the project\n",
    "\n",
    "    def __init__(self, config_filepath = CONFIG_FILE_PATH, params_filepath = PARAMS_FILE_PATH):\n",
    "        self.config = read_yaml(config_filepath)\n",
    "        self.params = read_yaml(params_filepath)\n",
    "\n",
    "        create_directories([self.config.artifacts_root])\n",
    "\n",
    "    def get_data_ingestion_config(self) -> DataIngestionConfig:\n",
    "        ''' Gets the config details for the data ingestion pipeline '''\n",
    "        config = self.config.data_ingestion\n",
    "\n",
    "        create_directories([config.root_dir])\n",
    "\n",
    "        data_ingestion_config = DataIngestionConfig(\n",
    "            root_dir = config.root_dir,\n",
    "            source_URL = config.source_URL,\n",
    "            local_data_file = config.local_data_file,\n",
    "            unzip_dir = config.unzip_dir\n",
    "        )\n",
    "\n",
    "        return data_ingestion_config\n",
    "    "
   ]
  },
  {
   "cell_type": "code",
   "execution_count": 21,
   "id": "98d9599c",
   "metadata": {},
   "outputs": [],
   "source": [
    "class DataIngestion: \n",
    "    # this class is helps with all the data ingestion related tasks\n",
    "\n",
    "    def __init__(self, config: DataIngestionConfig):\n",
    "        self.config = config\n",
    "\n",
    "    def download_file(self):\n",
    "        ''' Downloads data from source_url'''\n",
    "        try:\n",
    "            dataset_url = self.config.source_URL\n",
    "            zip_download_dir = self.config.local_data_file\n",
    "            os.makedirs(self.config.root_dir, exist_ok=True)\n",
    "            logger.info(f\"Downloading data from {dataset_url} into file {zip_download_dir}\")\n",
    "\n",
    "            file_id = dataset_url.split(\"/\")[-2]\n",
    "            prefix = 'https://drive.google.com/uc?/export=download&id='\n",
    "            gdown.download(prefix+file_id,zip_download_dir)\n",
    "\n",
    "            logger.info(f\"Successfully downloaded data from {dataset_url} into file {zip_download_dir}\")\n",
    "\n",
    "        except Exception as e:\n",
    "            raise e\n",
    "\n",
    "    def extract_zip_file(self):\n",
    "        ''' Extracts data from zip file '''\n",
    "        unzip_path = self.config.unzip_dir\n",
    "        os.makedirs(unzip_path, exist_ok=True)\n",
    "        with zipfile.ZipFile(self.config.local_data_file, 'r') as zip_ref:\n",
    "            zip_ref.extractall(unzip_path)\n",
    "        logger.info(f'Successfully extracted zip file to {unzip_path}')"
   ]
  },
  {
   "cell_type": "code",
   "execution_count": 14,
   "id": "46604bd9",
   "metadata": {},
   "outputs": [
    {
     "name": "stdout",
     "output_type": "stream",
     "text": [
      "/Users/riyosha/UW_MSDS/projects/End-to-end-chest-cancer-classification\n"
     ]
    }
   ],
   "source": [
    "%cd end-to-end-chest-cancer-classification"
   ]
  },
  {
   "cell_type": "code",
   "execution_count": 22,
   "id": "5652ad58",
   "metadata": {},
   "outputs": [
    {
     "name": "stdout",
     "output_type": "stream",
     "text": [
      "[2025-06-28 12:08:43,412: INFO: common]: yaml file successfully load from config/config.yaml\n",
      "[2025-06-28 12:08:43,415: INFO: common]: yaml file successfully load from params.yaml\n",
      "[2025-06-28 12:08:43,417: INFO: common]: directory created at: artifacts\n",
      "[2025-06-28 12:08:43,418: INFO: common]: directory created at: artifacts/data_ingestion\n",
      "[2025-06-28 12:08:43,418: INFO: 4278008370]: Downloading data from https://drive.google.com/file/d/1leEwKvCHlFMhQPlFUr8XQoSxp-79Qj_V/view?usp=sharing into file artifacts/data_ingestion/data.zip\n"
     ]
    },
    {
     "name": "stderr",
     "output_type": "stream",
     "text": [
      "Downloading...\n",
      "From (original): https://drive.google.com/uc?/export=download&id=1leEwKvCHlFMhQPlFUr8XQoSxp-79Qj_V\n",
      "From (redirected): https://drive.google.com/uc?%2Fexport=download&id=1leEwKvCHlFMhQPlFUr8XQoSxp-79Qj_V&confirm=t&uuid=994724b6-9dfa-4ec8-86b4-87f342729cc9\n",
      "To: /Users/riyosha/UW_MSDS/projects/End-to-end-chest-cancer-classification/artifacts/data_ingestion/data.zip\n",
      "100%|██████████| 124M/124M [00:04<00:00, 26.8MB/s] "
     ]
    },
    {
     "name": "stdout",
     "output_type": "stream",
     "text": [
      "[2025-06-28 12:08:49,239: INFO: 4278008370]: Successfully downloaded data from https://drive.google.com/file/d/1leEwKvCHlFMhQPlFUr8XQoSxp-79Qj_V/view?usp=sharing into file artifacts/data_ingestion/data.zip\n"
     ]
    },
    {
     "name": "stderr",
     "output_type": "stream",
     "text": [
      "\n"
     ]
    },
    {
     "name": "stdout",
     "output_type": "stream",
     "text": [
      "[2025-06-28 12:08:49,872: INFO: 4278008370]: Successfully extracted zip file to artifacts/data_ingestion\n"
     ]
    }
   ],
   "source": [
    "# Implementing the data ingestion pipeline!!\n",
    "try:\n",
    "    config = ConfigurationManager()\n",
    "    data_ingestion_config = config.get_data_ingestion_config()\n",
    "    data_ingestion = DataIngestion(config=data_ingestion_config)\n",
    "    data_ingestion.download_file()\n",
    "    data_ingestion.extract_zip_file()\n",
    "except Exception as e:\n",
    "    raise e"
   ]
  }
 ],
 "metadata": {
  "kernelspec": {
   "display_name": "cv-cancer",
   "language": "python",
   "name": "python3"
  },
  "language_info": {
   "codemirror_mode": {
    "name": "ipython",
    "version": 3
   },
   "file_extension": ".py",
   "mimetype": "text/x-python",
   "name": "python",
   "nbconvert_exporter": "python",
   "pygments_lexer": "ipython3",
   "version": "3.8.20"
  }
 },
 "nbformat": 4,
 "nbformat_minor": 5
}
